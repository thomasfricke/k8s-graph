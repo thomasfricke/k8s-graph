{
 "cells": [
  {
   "cell_type": "markdown",
   "id": "3fb4b665-0da0-43fc-a4e1-4d15b3fb7c08",
   "metadata": {},
   "source": [
    "# **Warning: this is an example for deploying a vulnerable setup**\n",
    "# **Do not use anything here in production**\n",
    "# Install imagetragick"
   ]
  },
  {
   "cell_type": "code",
   "execution_count": 4,
   "id": "49bf70fd-93a4-4dca-ad75-200dabfc342c",
   "metadata": {},
   "outputs": [
    {
     "name": "stdout",
     "output_type": "stream",
     "text": [
      "deployment.apps/imagetragick created\n"
     ]
    }
   ],
   "source": [
    "kubectl create -f - <<EOF\n",
    "apiVersion: apps/v1\n",
    "kind: Deployment\n",
    "metadata:\n",
    "  name: imagetragick\n",
    "  labels:\n",
    "    app: imagetragick\n",
    "spec:\n",
    "  replicas: 1\n",
    "  selector:\n",
    "    matchLabels:\n",
    "      app: imagetragick\n",
    "  template:\n",
    "    metadata:\n",
    "      labels:\n",
    "        app: imagetragick\n",
    "    spec:\n",
    "      containers:\n",
    "      - name: imagetragick\n",
    "        image: ghcr.io/thomasfricke/docker-imagetragick:main\n",
    "        ports:\n",
    "        - containerPort: 8080\n",
    "EOF"
   ]
  },
  {
   "cell_type": "code",
   "execution_count": 5,
   "id": "94be8522-44dd-4672-af7e-354652805fbd",
   "metadata": {},
   "outputs": [
    {
     "name": "stdout",
     "output_type": "stream",
     "text": [
      "NAME                                READY   STATUS              RESTARTS   AGE\n",
      "pod/imagetragick-598dcdb6b6-j5ct6   0/1     ContainerCreating   0          1s\n",
      "pod/my-neo4j-release-0              1/1     Running             0          66s\n",
      "\n",
      "NAME                             TYPE           CLUSTER-IP      EXTERNAL-IP    PORT(S)                                        AGE\n",
      "service/my-neo4j-release         ClusterIP      10.101.23.151   <none>         7687/TCP,7474/TCP                              66s\n",
      "service/my-neo4j-release-admin   ClusterIP      10.98.14.198    <none>         7687/TCP,7474/TCP                              66s\n",
      "service/my-standalone-lb-neo4j   LoadBalancer   10.104.2.154    10.104.2.154   7474:30581/TCP,7473:32062/TCP,7687:32407/TCP   66s\n",
      "\n",
      "NAME                           READY   UP-TO-DATE   AVAILABLE   AGE\n",
      "deployment.apps/imagetragick   0/1     1            0           1s\n",
      "\n",
      "NAME                                      DESIRED   CURRENT   READY   AGE\n",
      "replicaset.apps/imagetragick-598dcdb6b6   1         1         0       1s\n",
      "\n",
      "NAME                                READY   AGE\n",
      "statefulset.apps/my-neo4j-release   1/1     66s\n"
     ]
    }
   ],
   "source": [
    "kubectl get all"
   ]
  },
  {
   "cell_type": "code",
   "execution_count": 6,
   "id": "5dd29133-0168-48ba-a526-b8a3792aed7c",
   "metadata": {},
   "outputs": [
    {
     "name": "stdout",
     "output_type": "stream",
     "text": [
      "Error from server (BadRequest): container \"imagetragick\" in pod \"imagetragick-598dcdb6b6-j5ct6\" is waiting to start: ContainerCreating\n",
      " * Serving Flask app \"app\" (lazy loading)\n",
      " * Environment: production\n",
      "   WARNING: This is a development server. Do not use it in a production deployment.\n",
      "   Use a production WSGI server instead.\n",
      " * Debug mode: on\n",
      " * Running on http://0.0.0.0:8080/ (Press CTRL+C to quit)\n",
      " * Restarting with stat\n",
      " * Debugger is active!\n",
      " * Debugger PIN: 279-751-470\n"
     ]
    }
   ],
   "source": [
    "while ! kubectl logs -l app=imagetragick ; do  sleep 5 ; done"
   ]
  },
  {
   "cell_type": "code",
   "execution_count": 7,
   "id": "291178bd-0d13-4d4e-8998-3af878d80c0c",
   "metadata": {},
   "outputs": [
    {
     "name": "stdout",
     "output_type": "stream",
     "text": [
      "service/imagetragick exposed\n"
     ]
    }
   ],
   "source": [
    "kubectl expose deployment imagetragick --type=LoadBalancer"
   ]
  },
  {
   "cell_type": "code",
   "execution_count": 8,
   "id": "a69b9a6c-306a-40cd-8125-d29ad2af176f",
   "metadata": {},
   "outputs": [
    {
     "name": "stdout",
     "output_type": "stream",
     "text": [
      "NAME                                READY   STATUS    RESTARTS   AGE\n",
      "pod/imagetragick-598dcdb6b6-j5ct6   1/1     Running   0          7s\n",
      "pod/my-neo4j-release-0              1/1     Running   0          72s\n",
      "\n",
      "NAME                             TYPE           CLUSTER-IP      EXTERNAL-IP    PORT(S)                                        AGE\n",
      "service/imagetragick             LoadBalancer   10.101.174.5    <pending>      8080:32338/TCP                                 0s\n",
      "service/my-neo4j-release         ClusterIP      10.101.23.151   <none>         7687/TCP,7474/TCP                              72s\n",
      "service/my-neo4j-release-admin   ClusterIP      10.98.14.198    <none>         7687/TCP,7474/TCP                              72s\n",
      "service/my-standalone-lb-neo4j   LoadBalancer   10.104.2.154    10.104.2.154   7474:30581/TCP,7473:32062/TCP,7687:32407/TCP   72s\n",
      "\n",
      "NAME                           READY   UP-TO-DATE   AVAILABLE   AGE\n",
      "deployment.apps/imagetragick   1/1     1            1           7s\n",
      "\n",
      "NAME                                      DESIRED   CURRENT   READY   AGE\n",
      "replicaset.apps/imagetragick-598dcdb6b6   1         1         1       7s\n",
      "\n",
      "NAME                                READY   AGE\n",
      "statefulset.apps/my-neo4j-release   1/1     72s\n"
     ]
    }
   ],
   "source": [
    "kubectl get all"
   ]
  },
  {
   "cell_type": "code",
   "execution_count": 9,
   "id": "b071a13f-6fd0-4d6a-98f5-f4e9771d98ac",
   "metadata": {},
   "outputs": [],
   "source": [
    "IMAGETRAGICK_IP=$(kubectl get service imagetragick -ojsonpath='{.spec.clusterIPs[0]}')"
   ]
  },
  {
   "cell_type": "code",
   "execution_count": 10,
   "id": "427ffbc1-5cb2-43c2-be78-fbb55cc948cf",
   "metadata": {},
   "outputs": [
    {
     "name": "stdout",
     "output_type": "stream",
     "text": [
      "\n",
      "    <!doctype html>\n",
      "    <title>Upload Image</title>\n",
      "    <h1>Upload Image</h1>\n",
      "    <form action=\"\" method=post enctype=multipart/form-data>\n",
      "        <p><input type=file name=file>\n",
      "        <input type=submit value=Upload></p>\n",
      "    </form>\n",
      "    \n"
     ]
    }
   ],
   "source": [
    "curl $IMAGETRAGICK_IP:8080"
   ]
  },
  {
   "cell_type": "code",
   "execution_count": null,
   "id": "f4134b89-722c-4dcc-b2bf-06a835fc9870",
   "metadata": {},
   "outputs": [],
   "source": []
  }
 ],
 "metadata": {
  "kernelspec": {
   "display_name": "Bash",
   "language": "bash",
   "name": "bash"
  },
  "language_info": {
   "codemirror_mode": "shell",
   "file_extension": ".sh",
   "mimetype": "text/x-sh",
   "name": "bash"
  }
 },
 "nbformat": 4,
 "nbformat_minor": 5
}
