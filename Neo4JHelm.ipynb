{
 "cells": [
  {
   "cell_type": "markdown",
   "id": "ac508c1c-b7f6-45e9-a0a3-00e38d9389b8",
   "metadata": {},
   "source": [
    "# Preparations"
   ]
  },
  {
   "cell_type": "code",
   "execution_count": 74,
   "id": "a3f8dc6f-48e7-42e2-b20e-bc84d59e0e3d",
   "metadata": {},
   "outputs": [
    {
     "name": "stdout",
     "output_type": "stream",
     "text": [
      "/home/thomas/import/k8s-graph\n"
     ]
    }
   ],
   "source": [
    "pwd"
   ]
  },
  {
   "cell_type": "code",
   "execution_count": 75,
   "id": "b53612e6-69f2-4a94-8f73-230587648c7b",
   "metadata": {
    "tags": []
   },
   "outputs": [
    {
     "name": "stdout",
     "output_type": "stream",
     "text": [
      "ImageTragick.ipynb  \u001b[1;34mneo4j\u001b[0m                Neo4JHelm.ipynb\n",
      "LICENSE             Neo4JHelm-4.4.ipynb  \u001b[1;4;33mREADME.md\u001b[0m\n"
     ]
    }
   ],
   "source": [
    "ls "
   ]
  },
  {
   "cell_type": "markdown",
   "id": "cff6d6ea-025a-480b-bec3-5ffc856b8992",
   "metadata": {},
   "source": [
    "## Create namespace and set contect to work in this namespace"
   ]
  },
  {
   "cell_type": "code",
   "execution_count": 76,
   "id": "2014a6b2-fc2d-4056-9208-294dcc71ad9e",
   "metadata": {},
   "outputs": [
    {
     "name": "stdout",
     "output_type": "stream",
     "text": [
      "NAME        STATUS   AGE\n",
      "k8s-graph   Active   26h\n"
     ]
    }
   ],
   "source": [
    "kubectl get namespace k8s-graph ||\n",
    "kubectl create namespace k8s-graph"
   ]
  },
  {
   "cell_type": "code",
   "execution_count": 77,
   "id": "8ee57763-3fd6-4864-9763-1a7f3c55a959",
   "metadata": {},
   "outputs": [
    {
     "name": "stdout",
     "output_type": "stream",
     "text": [
      "Context \"minikube\" modified.\n"
     ]
    }
   ],
   "source": [
    "kubectl config set-context --current --namespace=k8s-graph"
   ]
  },
  {
   "cell_type": "markdown",
   "id": "7fe31c52-7819-479d-a598-e01237d415b2",
   "metadata": {},
   "source": [
    "should be empty"
   ]
  },
  {
   "cell_type": "code",
   "execution_count": 78,
   "id": "e33904d9-31fe-4ff8-a232-c651e5c1f6f5",
   "metadata": {},
   "outputs": [
    {
     "name": "stdout",
     "output_type": "stream",
     "text": [
      "NAME                                READY   STATUS      RESTARTS      AGE\n",
      "pod/imagetragick-598dcdb6b6-j5ct6   1/1     Running     2 (49m ago)   26h\n",
      "pod/my-neo4j-release-0              1/1     Running     0             12m\n",
      "pod/neo4j-init-fhzlm                0/1     Completed   0             10m\n",
      "\n",
      "NAME                             TYPE           CLUSTER-IP      EXTERNAL-IP    PORT(S)                                        AGE\n",
      "service/imagetragick             LoadBalancer   10.101.174.5    10.101.174.5   8080:32338/TCP                                 26h\n",
      "service/my-neo4j-release         LoadBalancer   10.109.43.96    10.109.43.96   7687:32273/TCP,7474:30668/TCP                  12m\n",
      "service/my-neo4j-release-admin   ClusterIP      10.96.198.104   <none>         7687/TCP,7474/TCP                              12m\n",
      "service/my-standalone-lb-neo4j   LoadBalancer   10.104.12.22    10.104.12.22   7474:31616/TCP,7473:31731/TCP,7687:32279/TCP   12m\n",
      "\n",
      "NAME                           READY   UP-TO-DATE   AVAILABLE   AGE\n",
      "deployment.apps/imagetragick   1/1     1            1           26h\n",
      "\n",
      "NAME                                      DESIRED   CURRENT   READY   AGE\n",
      "replicaset.apps/imagetragick-598dcdb6b6   1         1         1       26h\n",
      "\n",
      "NAME                                READY   AGE\n",
      "statefulset.apps/my-neo4j-release   1/1     12m\n",
      "\n",
      "NAME                   COMPLETIONS   DURATION   AGE\n",
      "job.batch/neo4j-init   1/1           27s        10m\n"
     ]
    }
   ],
   "source": [
    "kubectl get all"
   ]
  },
  {
   "cell_type": "code",
   "execution_count": 79,
   "id": "512c2f18-26d1-4000-9dd4-40e4b39df146",
   "metadata": {
    "tags": []
   },
   "outputs": [
    {
     "name": "stdout",
     "output_type": "stream",
     "text": [
      "NAME            \tNAMESPACE\tREVISION\tUPDATED                                 \tSTATUS  \tCHART       \tAPP VERSION\n",
      "my-neo4j-release\tk8s-graph\t1       \t2024-04-05 19:33:20.556702152 +0200 CEST\tdeployed\tneo4j-5.18.1\t5.18.1     \n"
     ]
    }
   ],
   "source": [
    "helm ls"
   ]
  },
  {
   "cell_type": "code",
   "execution_count": 80,
   "id": "d28147ee-3755-4f26-8495-0937489cca85",
   "metadata": {},
   "outputs": [
    {
     "name": "stdout",
     "output_type": "stream",
     "text": [
      "values-4.4.yaml  values.yaml\n"
     ]
    }
   ],
   "source": [
    "ls neo4j/helm"
   ]
  },
  {
   "cell_type": "code",
   "execution_count": 81,
   "id": "1b03a258-f365-4ff7-91e2-781071f9e7a4",
   "metadata": {
    "tags": []
   },
   "outputs": [
    {
     "name": "stdout",
     "output_type": "stream",
     "text": [
      "neo4j:\n",
      "  name: my-standalone\n",
      "  resources:\n",
      "    cpu: \"4\"\n",
      "    memory: \"4Gi\"\n",
      "\n",
      "  # Uncomment to set the initial password\n",
      "  password: \"hellohello\"\n",
      "\n",
      "  # Uncomment to use enterprise edition\n",
      "  #edition: \"enterprise\"\n",
      "  acceptLicenseAgreement: \"yes\"\n",
      "\n",
      "volumes:\n",
      "  data:\n",
      "    mode: defaultStorageClass\n",
      "    defaultStorageClass:\n",
      "      requests:\n",
      "        storage: 4Gi\n",
      "\n",
      "image:\n",
      "  customImage: neo4j:5.18.1\n",
      "\n",
      "env:\n",
      "  NEO4J_PLUGINS: '[\"apoc\"]'\n"
     ]
    }
   ],
   "source": [
    "cat neo4j/helm/values.yaml"
   ]
  },
  {
   "cell_type": "code",
   "execution_count": 82,
   "id": "3b1329b1-bba8-4781-a9e8-8d8210d3384d",
   "metadata": {},
   "outputs": [
    {
     "name": "stdout",
     "output_type": "stream",
     "text": [
      "release \"my-neo4j-release\" uninstalled\n",
      "persistentvolumeclaim \"data-my-neo4j-release-0\" deleted\n"
     ]
    }
   ],
   "source": [
    "helm uninstall my-neo4j-release || true\n",
    "kubectl delete pvc data-my-neo4j-release-0"
   ]
  },
  {
   "cell_type": "code",
   "execution_count": 83,
   "id": "c565dca9-dd63-4435-b0de-f2eacdc525a7",
   "metadata": {
    "tags": []
   },
   "outputs": [
    {
     "name": "stdout",
     "output_type": "stream",
     "text": [
      "Release \"my-neo4j-release\" does not exist. Installing it now.\n",
      "NAME: my-neo4j-release\n",
      "LAST DEPLOYED: Fri Apr  5 19:45:51 2024\n",
      "NAMESPACE: k8s-graph\n",
      "STATUS: deployed\n",
      "REVISION: 1\n",
      "TEST SUITE: None\n",
      "NOTES:\n",
      "Thank you for installing neo4j.\n",
      "\n",
      "Your release \"my-neo4j-release\" has been installed  in namespace \"k8s-graph\".\n",
      "\n",
      "The neo4j user's password has been set to \"hellohello\".To view the progress of the rollout try:\n",
      "\n",
      "  $ kubectl --namespace \"k8s-graph\" rollout status --watch --timeout=600s statefulset/my-neo4j-release\n",
      "\n",
      "Once rollout is complete you can log in to Neo4j at \"neo4j://my-neo4j-release.k8s-graph.svc.cluster.local:7687\". Try:\n",
      "\n",
      "  $ kubectl run --rm -it --namespace \"k8s-graph\" --image \"neo4j:5.18.1\" cypher-shell \\\n",
      "     -- cypher-shell -a \"neo4j://my-neo4j-release.k8s-graph.svc.cluster.local:7687\" -u neo4j -p \"hellohello\"\n",
      "\n",
      "Graphs are everywhere!\n",
      "\n",
      "WARNING: Passwords set using 'neo4j.password' will be stored in plain text in the Helm release ConfigMap.\n",
      "Please consider using 'neo4j.passwordFromSecret' for improved security.\n"
     ]
    }
   ],
   "source": [
    "helm upgrade --install my-neo4j-release neo4j/neo4j  -f neo4j/helm/values.yaml\n"
   ]
  },
  {
   "cell_type": "code",
   "execution_count": 84,
   "id": "9a6241f5-6375-4cd2-ac40-f43a6a54a63a",
   "metadata": {},
   "outputs": [
    {
     "name": "stdout",
     "output_type": "stream",
     "text": [
      "NAME            \tNAMESPACE\tREVISION\tUPDATED                                 \tSTATUS  \tCHART       \tAPP VERSION\n",
      "my-neo4j-release\tk8s-graph\t1       \t2024-04-05 19:45:51.974213293 +0200 CEST\tdeployed\tneo4j-5.18.1\t5.18.1     \n"
     ]
    }
   ],
   "source": [
    "helm ls"
   ]
  },
  {
   "cell_type": "code",
   "execution_count": 85,
   "id": "e4bbfe4c-7c6c-438f-871f-4a98d91fe95f",
   "metadata": {},
   "outputs": [
    {
     "name": "stdout",
     "output_type": "stream",
     "text": [
      "NAME                                READY   STATUS      RESTARTS      AGE\n",
      "pod/imagetragick-598dcdb6b6-j5ct6   1/1     Running     2 (49m ago)   26h\n",
      "pod/my-neo4j-release-0              0/1     Pending     0             0s\n",
      "pod/neo4j-init-fhzlm                0/1     Completed   0             10m\n",
      "\n",
      "NAME                             TYPE           CLUSTER-IP       EXTERNAL-IP    PORT(S)                                        AGE\n",
      "service/imagetragick             LoadBalancer   10.101.174.5     10.101.174.5   8080:32338/TCP                                 26h\n",
      "service/my-neo4j-release         ClusterIP      10.101.55.78     <none>         7687/TCP,7474/TCP                              0s\n",
      "service/my-neo4j-release-admin   ClusterIP      10.100.130.201   <none>         7687/TCP,7474/TCP                              0s\n",
      "service/my-standalone-lb-neo4j   LoadBalancer   10.106.23.82     <pending>      7474:30468/TCP,7473:32291/TCP,7687:30153/TCP   0s\n",
      "\n",
      "NAME                           READY   UP-TO-DATE   AVAILABLE   AGE\n",
      "deployment.apps/imagetragick   1/1     1            1           26h\n",
      "\n",
      "NAME                                      DESIRED   CURRENT   READY   AGE\n",
      "replicaset.apps/imagetragick-598dcdb6b6   1         1         1       26h\n",
      "\n",
      "NAME                                READY   AGE\n",
      "statefulset.apps/my-neo4j-release   0/1     0s\n",
      "\n",
      "NAME                   COMPLETIONS   DURATION   AGE\n",
      "job.batch/neo4j-init   1/1           27s        10m\n"
     ]
    }
   ],
   "source": [
    "kubectl get all"
   ]
  },
  {
   "cell_type": "code",
   "execution_count": 86,
   "id": "6658e138-b820-4bd3-b374-a9a3b6733036",
   "metadata": {},
   "outputs": [
    {
     "name": "stdout",
     "output_type": "stream",
     "text": [
      "pod/my-neo4j-release-0 condition met\n"
     ]
    }
   ],
   "source": [
    "kubectl wait  --for=condition=Ready pod/my-neo4j-release-0"
   ]
  },
  {
   "cell_type": "code",
   "execution_count": 87,
   "id": "eafa7402-9402-4a2f-bffe-d9069cf1c9f8",
   "metadata": {
    "tags": []
   },
   "outputs": [
    {
     "name": "stdout",
     "output_type": "stream",
     "text": [
      "Name:             my-neo4j-release-0\n",
      "Namespace:        k8s-graph\n",
      "Priority:         0\n",
      "Service Account:  default\n",
      "Node:             minikube/192.168.49.2\n",
      "Start Time:       Fri, 05 Apr 2024 19:45:53 +0200\n",
      "Labels:           app=my-standalone\n",
      "                  apps.kubernetes.io/pod-index=0\n",
      "                  controller-revision-hash=my-neo4j-release-75fbfdf867\n",
      "                  helm.neo4j.com/clustering=false\n",
      "                  helm.neo4j.com/instance=my-neo4j-release\n",
      "                  helm.neo4j.com/neo4j.loadbalancer=include\n",
      "                  helm.neo4j.com/neo4j.name=my-standalone\n",
      "                  helm.neo4j.com/pod_category=neo4j-instance\n",
      "                  statefulset.kubernetes.io/pod-name=my-neo4j-release-0\n",
      "Annotations:      checksum/my-neo4j-release-config: 5623926ee307148d81e0b7ced8dd54d1fe8f495b99dc71c27d35b2f622c27958\n",
      "                  checksum/my-neo4j-release-env: 8994d0c0bddaf6a41d469e24298db773e03e0dce9ac8d7cf81aaa589cc68a764\n",
      "Status:           Running\n",
      "IP:               10.244.1.141\n",
      "IPs:\n",
      "  IP:           10.244.1.141\n",
      "Controlled By:  StatefulSet/my-neo4j-release\n",
      "Containers:\n",
      "  neo4j:\n",
      "    Container ID:   docker://b9c4fcda384a6c87190fc081121dd0735fe375946a3d669bb39c3f88658019cd\n",
      "    Image:          neo4j:5.18.1\n",
      "    Image ID:       docker-pullable://neo4j@sha256:dc15e0f234af44fb514a8ff8ff7b491cba046b07f4201ad4399b69ef92a81aea\n",
      "    Ports:          7474/TCP, 7687/TCP\n",
      "    Host Ports:     0/TCP, 0/TCP\n",
      "    State:          Running\n",
      "      Started:      Fri, 05 Apr 2024 19:45:54 +0200\n",
      "    Ready:          True\n",
      "    Restart Count:  0\n",
      "    Limits:\n",
      "      cpu:     4\n",
      "      memory:  4Gi\n",
      "    Requests:\n",
      "      cpu:      4\n",
      "      memory:   4Gi\n",
      "    Liveness:   tcp-socket :7687 delay=0s timeout=10s period=5s #success=1 #failure=40\n",
      "    Readiness:  tcp-socket :7687 delay=0s timeout=10s period=5s #success=1 #failure=20\n",
      "    Startup:    tcp-socket :7687 delay=0s timeout=1s period=5s #success=1 #failure=1000\n",
      "    Environment Variables from:\n",
      "      my-neo4j-release-env  ConfigMap  Optional: false\n",
      "    Environment:\n",
      "      HELM_NEO4J_VERSION:       5.18.1\n",
      "      HELM_CHART_VERSION:       5.18.1\n",
      "      POD_NAME:                 my-neo4j-release-0 (v1:metadata.name)\n",
      "      SERVICE_NEO4J_ADMIN:      my-neo4j-release-admin.k8s-graph.svc.cluster.local\n",
      "      SERVICE_NEO4J_INTERNALS:  my-neo4j-release-internals.k8s-graph.svc.cluster.local\n",
      "      SERVICE_NEO4J:            my-neo4j-release.k8s-graph.svc.cluster.local\n",
      "    Mounts:\n",
      "      /backups from data (rw)\n",
      "      /config/neo4j-auth from neo4j-auth (rw)\n",
      "      /config/neo4j.conf from neo4j-conf (rw)\n",
      "      /config/server-logs.xml from neo4j-server-logs (rw)\n",
      "      /config/user-logs.xml from neo4j-user-logs (rw)\n",
      "      /data from data (rw)\n",
      "      /import from data (rw)\n",
      "      /licenses from data (rw)\n",
      "      /logs from data (rw)\n",
      "      /metrics from data (rw)\n",
      "      /var/run/secrets/kubernetes.io/serviceaccount from kube-api-access-42gbk (ro)\n",
      "Conditions:\n",
      "  Type              Status\n",
      "  Initialized       True \n",
      "  Ready             True \n",
      "  ContainersReady   True \n",
      "  PodScheduled      True \n",
      "Volumes:\n",
      "  data:\n",
      "    Type:       PersistentVolumeClaim (a reference to a PersistentVolumeClaim in the same namespace)\n",
      "    ClaimName:  data-my-neo4j-release-0\n",
      "    ReadOnly:   false\n",
      "  neo4j-conf:\n",
      "    Type:               Projected (a volume that contains injected data from multiple sources)\n",
      "    ConfigMapName:      my-neo4j-release-default-config\n",
      "    ConfigMapOptional:  <nil>\n",
      "    ConfigMapName:      my-neo4j-release-user-config\n",
      "    ConfigMapOptional:  <nil>\n",
      "    ConfigMapName:      my-neo4j-release-k8s-config\n",
      "    ConfigMapOptional:  <nil>\n",
      "  neo4j-server-logs:\n",
      "    Type:      ConfigMap (a volume populated by a ConfigMap)\n",
      "    Name:      my-neo4j-release-server-logs-config\n",
      "    Optional:  false\n",
      "  neo4j-user-logs:\n",
      "    Type:      ConfigMap (a volume populated by a ConfigMap)\n",
      "    Name:      my-neo4j-release-user-logs-config\n",
      "    Optional:  false\n",
      "  neo4j-auth:\n",
      "    Type:        Secret (a volume populated by a Secret)\n",
      "    SecretName:  my-standalone-auth\n",
      "    Optional:    false\n",
      "  kube-api-access-42gbk:\n",
      "    Type:                    Projected (a volume that contains injected data from multiple sources)\n",
      "    TokenExpirationSeconds:  3607\n",
      "    ConfigMapName:           kube-root-ca.crt\n",
      "    ConfigMapOptional:       <nil>\n",
      "    DownwardAPI:             true\n",
      "QoS Class:                   Guaranteed\n",
      "Node-Selectors:              <none>\n",
      "Tolerations:                 node.kubernetes.io/not-ready:NoExecute op=Exists for 300s\n",
      "                             node.kubernetes.io/unreachable:NoExecute op=Exists for 300s\n",
      "Events:\n",
      "  Type     Reason            Age   From               Message\n",
      "  ----     ------            ----  ----               -------\n",
      "  Warning  FailedScheduling  12s   default-scheduler  0/1 nodes are available: pod has unbound immediate PersistentVolumeClaims. preemption: 0/1 nodes are available: 1 Preemption is not helpful for scheduling..\n",
      "  Normal   Scheduled         11s   default-scheduler  Successfully assigned k8s-graph/my-neo4j-release-0 to minikube\n",
      "  Normal   Pulled            10s   kubelet            Container image \"neo4j:5.18.1\" already present on machine\n",
      "  Normal   Created           10s   kubelet            Created container neo4j\n",
      "  Normal   Started           10s   kubelet            Started container neo4j\n",
      "  Warning  Unhealthy         6s    kubelet            Startup probe failed: dial tcp 10.244.1.141:7687: connect: connection refused\n"
     ]
    }
   ],
   "source": [
    "kubectl describe pod/my-neo4j-release-0"
   ]
  },
  {
   "cell_type": "code",
   "execution_count": 88,
   "id": "67773795-c084-4af2-9f91-f6660b974c9f",
   "metadata": {},
   "outputs": [
    {
     "name": "stdout",
     "output_type": "stream",
     "text": [
      "Installing Plugin 'apoc' from /var/lib/neo4j/labs/apoc-*-core.jar to /var/lib/neo4j/plugins/apoc.jar\n",
      "Applying default values for plugin apoc to neo4j.conf\n",
      "Changed password for user 'neo4j'. IMPORTANT: this change will only take effect if performed before the database is started for the first time.\n",
      "2024-04-05 17:45:58.777+0000 INFO  Logging config in use: File '/config/user-logs.xml/user-logs.xml'\n",
      "2024-04-05 17:45:58.791+0000 INFO  Command expansion is explicitly enabled for configuration\n",
      "2024-04-05 17:45:58.803+0000 INFO  Starting...\n",
      "2024-04-05 17:45:59.734+0000 INFO  This instance is ServerId{e3066285} (e3066285-8c8d-4769-8c8e-348e6c41dcf2)\n",
      "2024-04-05 17:46:00.414+0000 INFO  ======== Neo4j 5.18.1 ========\n",
      "2024-04-05 17:46:03.748+0000 INFO  Bolt enabled on 0.0.0.0:7687.\n"
     ]
    }
   ],
   "source": [
    "kubectl logs my-neo4j-release-0 "
   ]
  },
  {
   "cell_type": "code",
   "execution_count": 89,
   "id": "96763e0f-2964-42ad-8f7e-e22155ed8f70",
   "metadata": {
    "tags": []
   },
   "outputs": [
    {
     "name": "stdout",
     "output_type": "stream",
     "text": [
      "NAME                      STATUS   VOLUME                                     CAPACITY   ACCESS MODES   STORAGECLASS   AGE\n",
      "data-my-neo4j-release-0   Bound    pvc-6f8a5cea-2497-4595-b21a-08b7b4b44fb8   4Gi        RWO            standard       12s\n"
     ]
    }
   ],
   "source": [
    "kubectl get pvc"
   ]
  },
  {
   "cell_type": "markdown",
   "id": "29cc2a03-bd58-40ca-afea-606dcc53f08e",
   "metadata": {},
   "source": [
    "be sure to load apoc"
   ]
  },
  {
   "cell_type": "code",
   "execution_count": 90,
   "id": "349c865e-38a2-450c-b7da-3448d31679ea",
   "metadata": {},
   "outputs": [
    {
     "name": "stdout",
     "output_type": "stream",
     "text": [
      "#dbms.security.procedures.allowlist=\u001b[01;31m\u001b[Kapoc\u001b[m\u001b[K.coll.*,\u001b[01;31m\u001b[Kapoc\u001b[m\u001b[K.load.*,gds.*\n",
      "dbms.security.procedures.unrestricted=\u001b[01;31m\u001b[Kapoc\u001b[m\u001b[K.*\n"
     ]
    }
   ],
   "source": [
    "kubectl exec -it my-neo4j-release-0 -- cat conf/neo4j.conf | grep apoc"
   ]
  },
  {
   "cell_type": "markdown",
   "id": "05289b03-5cad-4742-b433-25a6be120859",
   "metadata": {},
   "source": [
    "## Deploy `Imagetragick`\n",
    "\n",
    "We deploy a vulnerable version of `Imagemagick` using the Notebook [ImageTragick](ImageTragick.ipynb)"
   ]
  },
  {
   "cell_type": "markdown",
   "id": "e1e79ba7-3a46-40bf-9b0e-6b6790e3a24e",
   "metadata": {},
   "source": [
    "## Load cypher scripts\n",
    "\n",
    "The cypher scripts need access to the API server\n",
    "\n",
    "Start a proxy with `kubectl proxy --port=8001 --address=172.26.0.1 --accept-hosts='^*$'` in a different terminal.\n",
    "\n",
    "If you use a different setup for the API_SERVER, change the variable in the next line"
   ]
  },
  {
   "cell_type": "code",
   "execution_count": 91,
   "id": "3bef4c58-8400-4475-ac8e-a1e60d6c35ef",
   "metadata": {
    "tags": []
   },
   "outputs": [],
   "source": [
    "export API_SERVER=http://172.26.0.1:8001\n",
    "# curl $API_SERVER"
   ]
  },
  {
   "cell_type": "markdown",
   "id": "2aeb33b1-c120-4e75-a970-fe49e1c64914",
   "metadata": {
    "tags": []
   },
   "source": [
    "## Create a vulnerable rolebinding to the cluster\n",
    "\n",
    "This sets up the scene for this [attack to take over the cluster by uploading images to the vulnerable ImageTragick](https://github.com/thomasfricke/training-kubernetes-security/blob/main/OpenShift/Overview.ipynb)"
   ]
  },
  {
   "cell_type": "code",
   "execution_count": 92,
   "id": "996f2b91-324e-4765-8c05-0ad859edbe2f",
   "metadata": {
    "tags": []
   },
   "outputs": [
    {
     "name": "stdout",
     "output_type": "stream",
     "text": [
      "NAME                    ROLE                        AGE\n",
      "cluster-admin-binding   ClusterRole/cluster-admin   26m\n"
     ]
    }
   ],
   "source": [
    "kubectl get ClusterRoleBinding cluster-admin-binding || \\\n",
    "kubectl create -f - <<EOF\n",
    "kind: ClusterRoleBinding\n",
    "apiVersion: rbac.authorization.k8s.io/v1\n",
    "metadata:\n",
    "  name: cluster-admin-binding\n",
    "subjects:\n",
    "  - kind: ServiceAccount\n",
    "    name: default \n",
    "    namespace: k8s-graph\n",
    "roleRef:\n",
    "  apiGroup: rbac.authorization.k8s.io\n",
    "  kind: ClusterRole\n",
    "  name: cluster-admin\n",
    "EOF"
   ]
  },
  {
   "cell_type": "code",
   "execution_count": 93,
   "id": "d191801f-966d-4226-beaa-a8e8aeb04898",
   "metadata": {
    "tags": []
   },
   "outputs": [
    {
     "name": "stdout",
     "output_type": "stream",
     "text": [
      "apiVersion: rbac.authorization.k8s.io/v1\n",
      "kind: ClusterRoleBinding\n",
      "metadata:\n",
      "  creationTimestamp: \"2024-04-05T17:20:03Z\"\n",
      "  name: cluster-admin-binding\n",
      "  resourceVersion: \"1186092\"\n",
      "  uid: e6c52b1f-b5c1-4109-8298-c7d28d3e3ddb\n",
      "roleRef:\n",
      "  apiGroup: rbac.authorization.k8s.io\n",
      "  kind: ClusterRole\n",
      "  name: cluster-admin\n",
      "subjects:\n",
      "- kind: ServiceAccount\n",
      "  name: default\n",
      "  namespace: k8s-graph\n"
     ]
    }
   ],
   "source": [
    "kubectl get clusterrolebinding cluster-admin-binding -o yaml"
   ]
  },
  {
   "cell_type": "markdown",
   "id": "54899bbd-6928-440e-9146-594afb60d0bb",
   "metadata": {},
   "source": [
    "### Load all `*.cypher` scripts and the `import.sh` script into a config map"
   ]
  },
  {
   "cell_type": "code",
   "execution_count": 94,
   "id": "a86f0cc3-9d7a-4203-8165-f51780178f9e",
   "metadata": {},
   "outputs": [
    {
     "name": "stdout",
     "output_type": "stream",
     "text": [
      "\u001b[1;34mcypher\u001b[0m\n",
      "\n",
      "neo4j/import/cypher:\n",
      "\u001b[1;32mclusterrolebindings.cypher\u001b[0m  \u001b[1;32mimport.sh\u001b[0m            \u001b[1;32mserviceaccounts.cypher\u001b[0m\n",
      "\u001b[1;32mclusterroles.cypher\u001b[0m         \u001b[1;32mpods.cypher\u001b[0m          \u001b[1;32mservices.cypher\u001b[0m\n",
      "\u001b[1;32mcreate-cve.cypher\u001b[0m           \u001b[1;32mrolebindings.cypher\u001b[0m  \n",
      "\u001b[1;32merase.cypher\u001b[0m                \u001b[1;32mroles.cypher\u001b[0m         \n"
     ]
    }
   ],
   "source": [
    "ls neo4j/import -R"
   ]
  },
  {
   "cell_type": "code",
   "execution_count": 95,
   "id": "b63fe476-54bb-416d-ad19-40d5839dd0ea",
   "metadata": {},
   "outputs": [
    {
     "name": "stdout",
     "output_type": "stream",
     "text": [
      "configmap \"cyphers\" deleted\n",
      "configmap/cyphers created\n"
     ]
    }
   ],
   "source": [
    "kubectl delete configmap cyphers || true\n",
    "kubectl create configmap cyphers $(for i in neo4j/import/cypher/*{cypher,sh}; do echo -n \"--from-file=$i \"  ; done) "
   ]
  },
  {
   "cell_type": "code",
   "execution_count": 96,
   "id": "1b59e58b-a55e-40fe-a171-a725f5b52781",
   "metadata": {
    "tags": []
   },
   "outputs": [
    {
     "name": "stdout",
     "output_type": "stream",
     "text": [
      "apiVersion: v1\n",
      "data:\n",
      "  clusterrolebindings.cypher: \"//load clusterrolebindings\\n\\nCALL apoc.load.json(\\\"${API_SERVER}/apis/rbac.authorization.k8s.io/v1/clusterrolebindings\\\")\\nYIELD\n",
      "    value as clusterrolebindinglist\\n\\nWITH clusterrolebindinglist\\nUNWIND clusterrolebindinglist.items\n",
      "    AS clusterrolebinding\\n  MERGE (crb:ClusterRoleBinding {name: clusterrolebinding.metadata.name,\\n\n",
      "    \\               kind: \\\"ClusterRoleBinding\\\" } )\\n  WITH clusterrolebinding \\n\n",
      "    \\ UNWIND clusterrolebinding.subjects as subject\\n  MATCH (s:ServiceAccount {name:\n",
      "    subject.name,\\n                           namespace: subject.namespace})\\n  MATCH\n",
      "    (cr:ClusterRole {\\n                                      kind: clusterrolebinding.roleRef.kind,\\n\n",
      "    \\                                     name: clusterrolebinding.roleRef.name\\n\n",
      "    \\                    }) \\n  MERGE (s)-[:ClusterRoleBinding  {name: clusterrolebinding.metadata.name,\\n\n",
      "    \\                                     kind: \\\"ClusterRoleBinding\\\" }\\n            ]->(cr)\\n\n",
      "    \\ WITH clusterrolebinding, subject\\n  MATCH (r:ROLE {\\n                                      kind:\n",
      "    clusterrolebinding.roleRef.kind,\\n                                      name:\n",
      "    clusterrolebinding.roleRef.name,\\n                                      namespace:\n",
      "    subject.namespace\\n                     })\\n  MERGE(s)-[:ClusterRoleBinding  {name:\n",
      "    clusterrolebinding.metadata.name,\\n                                      kind:\n",
      "    \\\"ClusterRoleBinding\\\" }\\n            ]->(r) \\n\"\n",
      "  clusterroles.cypher: \"//load clusterroles\\n\\nCALL apoc.load.json(\\\"${API_SERVER}/apis/rbac.authorization.k8s.io/v1/clusterroles\\\")\\nYIELD\n",
      "    value as clusterrolelist\\n\\nWITH clusterrolelist\\nUNWIND clusterrolelist.items\n",
      "    AS clusterrole\\n  MERGE (r:ClusterRole { name: clusterrole.metadata.name,\\n                         kind:\n",
      "    \\\"ClusterRole\\\" \\n                       } \\n        )\\n\\n\"\n",
      "  create-cve.cypher: |\n",
      "    CREATE (cve:CVE {name: \"CVE-202212345\", severity: \"HIGH\"})\n",
      "    WITH cve\n",
      "\n",
      "    MATCH\n",
      "      (container:Containers)\n",
      "      WHERE container.image = \"ghcr.io/thomasfricke/docker-imagetragick:main\" AND cve.name = \"CVE-202212345\"\n",
      "    CREATE (container)-[r:VULNERABLE]->(cve)\n",
      "  erase.cypher: |+\n",
      "    MATCH(n) DETACH DELETE n\n",
      "\n",
      "  import.sh: \"#!/bin/bash\\n\\ncd $(dirname $0)\\n\\nfor i in erase serviceaccounts  pods\n",
      "    services create-cve \\\\\\n\\t roles clusterroles clusterrolebindings rolebindings\\ndo\n",
      "    \\ \\n\\techo -n importing $i ...\\n        \\n\\twhile ! $(sed 's+\\\\${API_SERVER}+'$API_SERVER+\n",
      "    ${i}.cypher \\\\\\n\\t\\t| cypher-shell -a \\\"${NEO4J_ADDRESS}\\\" -u \\\"${NEO4J_USERNAME}\\\"\n",
      "    -p \\\"${NEO4J_PASSWORD}\\\" ) \\n        do \\n\\t  echo -n .\\n\\tdone\\n\\techo done\\ndone\\n\\n\"\n",
      "  pods.cypher: \"//load pods\\n\\nCALL apoc.load.json(\\\"${API_SERVER}/api/v1/pods\\\")\\nYIELD\n",
      "    value as pod\\n\\nWITH pod\\nUNWIND pod.items AS v\\n  MERGE (p:Pod {name: v.metadata.name,\\n\n",
      "    \\               namespace: v.metadata.namespace, \\n                kind: \\\"Pod\\\"\\n\n",
      "    \\        } )\\n  WITH p,v\\n  MATCH (s:ServiceAccount{\\n           name: coalesce(\n",
      "    v.spec.serviceAccountName, \\\"default\\\" ),\\n           namespace:  v.metadata.namespace,\\n\n",
      "    \\          kind: \\\"ServiceAccount\\\"\\n          } )\\n  WITH s, p,v\\n  MERGE (p)-[rs:CREATED_BY]->(s)\n",
      "    \\n\\n  WITH p, v\\n    UNWIND keys(v.metadata.labels) AS key\\n      MERGE (l:LABELS\n",
      "    {key: key,label:v.metadata.labels[key] })\\n      MERGE (l)-[r:LABELS]-(p)\\n    WITH\n",
      "    v.spec.containers as containers, p as p\\n      UNWIND containers as cv\\n        MERGE\n",
      "    (c:Containers {name: cv.name, image: cv.image })\\n        MERGE (p)-[rc:CONTAINS]-(c)\\n\\n\"\n",
      "  rolebindings.cypher: |+\n",
      "    //load rolebindingss\n",
      "\n",
      "    CALL apoc.load.json(\"${API_SERVER}/apis/rbac.authorization.k8s.io/v1/rolebindings\")\n",
      "    YIELD value as rolebindinglist\n",
      "\n",
      "    WITH rolebindinglist\n",
      "    UNWIND rolebindinglist.items AS rolebinding\n",
      "      MERGE (rb:RoleBinding {name: rolebinding.metadata.name,\n",
      "                    namespace: rolebinding.metadata.namespace,\n",
      "                    kind: \"RoleBinding\" } )\n",
      "      WITH rolebinding\n",
      "      UNWIND rolebinding.subjects as subject\n",
      "      MATCH (s:ServiceAccount {name: subject.name,\n",
      "                               namespace: subject.namespace})\n",
      "      MATCH (cr:ClusterRole {\n",
      "                                          kind: rolebinding.roleRef.kind,\n",
      "                                          name: rolebinding.roleRef.name\n",
      "                         })\n",
      "      MERGE (s)-[:RoleBinding  {name: rolebinding.metadata.name,\n",
      "                                namespace: rolebinding.metadata.namespace,\n",
      "                                kind: \"RoleBinding\" }\n",
      "                ]->(cr)\n",
      "      WITH rolebinding\n",
      "      MATCH (r:Role {\n",
      "                                          kind: rolebinding.roleRef.kind,\n",
      "                                          name: rolebinding.roleRef.name,\n",
      "                                          namespace: rolebinding.roleRef.namespace\n",
      "                         })\n",
      "      MERGE(s)-[:RoleBinding  {name: rolebinding.metadata.name,\n",
      "                               namespace: rolebinding.metadata.namespace,\n",
      "                                          kind: \"RoleBinding\" }\n",
      "                ]->(r)\n",
      "\n",
      "  roles.cypher: \"//load roles\\n\\nCALL apoc.load.json(\\\"${API_SERVER}/apis/rbac.authorization.k8s.io/v1/roles\\\")\\nYIELD\n",
      "    value as rolelist\\n\\nWITH rolelist\\nUNWIND rolelist.items AS role\\n  MERGE (r:Role\n",
      "    {name: role.metadata.name,\\n                namespace: role.metadata.namespace,\n",
      "    \\n                kind: \\\"Role\\\" } )\\n\\n\"\n",
      "  serviceaccounts.cypher: \"//load serviceaccounts\\n\\nCALL apoc.load.json(\\\"${API_SERVER}/api/v1/serviceaccounts\\\")\\nYIELD\n",
      "    value as serviceaccount\\n\\nWITH serviceaccount\\nUNWIND serviceaccount.items AS\n",
      "    v\\n  MERGE (p:ServiceAccount {name: v.metadata.name,\\n                namespace:\n",
      "    v.metadata.namespace, \\n                kind: \\\"ServiceAccount\\\" } )\\n  WITH p,\n",
      "    v\\n    UNWIND keys(v.metadata.labels) AS key\\n      MERGE (l:LABELS {key: key,label:v.metadata.labels[key]\n",
      "    })\\n      MERGE (l)-[r:LABELS]-(p)\\n\\n\"\n",
      "  services.cypher: |\n",
      "    // load services\n",
      "\n",
      "    CALL apoc.load.json(\"${API_SERVER}/api/v1/services\")\n",
      "    YIELD value as service\n",
      "\n",
      "    UNWIND service.items AS v\n",
      "      MERGE (s:Service {name: v.metadata.name,\n",
      "                        namespace: v.metadata.namespace,\n",
      "                        kind: \"Service\"\n",
      "                        } )\n",
      "      WITH s,v\n",
      "        UNWIND keys(v.spec.selector) AS key\n",
      "          MERGE (l:LABELS {key: key,label:v.spec.selector[key] })\n",
      "          MERGE (s)-[r:SELECTS]-(l);\n",
      "kind: ConfigMap\n",
      "metadata:\n",
      "  creationTimestamp: \"2024-04-05T17:46:06Z\"\n",
      "  name: cyphers\n",
      "  namespace: k8s-graph\n",
      "  resourceVersion: \"1188046\"\n",
      "  uid: 5b45b649-36a2-4bf5-9c70-208e583fe14f\n"
     ]
    }
   ],
   "source": [
    "kubectl get configmap cyphers -o yaml"
   ]
  },
  {
   "cell_type": "markdown",
   "id": "b9ce1411-a18c-4838-b52d-3460959c4c12",
   "metadata": {},
   "source": [
    "## Username and Password\n",
    "\n",
    "1. are in the secret\n",
    "2. gets exported to environment vars"
   ]
  },
  {
   "cell_type": "code",
   "execution_count": 97,
   "id": "689b2cc3-6fbb-401c-ac60-aa604ff41391",
   "metadata": {},
   "outputs": [
    {
     "name": "stdout",
     "output_type": "stream",
     "text": [
      "NAME                                     TYPE                 DATA   AGE\n",
      "my-standalone-auth                       Opaque               1      15s\n",
      "sh.helm.release.v1.my-neo4j-release.v1   helm.sh/release.v1   1      15s\n"
     ]
    }
   ],
   "source": [
    "kubectl get secrets"
   ]
  },
  {
   "cell_type": "code",
   "execution_count": 98,
   "id": "812db50c-ffe8-4581-a63f-03a950d3a0ba",
   "metadata": {
    "tags": []
   },
   "outputs": [
    {
     "name": "stdout",
     "output_type": "stream",
     "text": [
      "apiVersion: v1\n",
      "data:\n",
      "  NEO4J_AUTH: bmVvNGovaGVsbG9oZWxsbw==\n",
      "kind: Secret\n",
      "metadata:\n",
      "  annotations:\n",
      "    meta.helm.sh/release-name: my-neo4j-release\n",
      "    meta.helm.sh/release-namespace: k8s-graph\n",
      "  creationTimestamp: \"2024-04-05T17:45:52Z\"\n",
      "  labels:\n",
      "    app: my-standalone\n",
      "    app.kubernetes.io/managed-by: Helm\n",
      "  name: my-standalone-auth\n",
      "  namespace: k8s-graph\n",
      "  resourceVersion: \"1187965\"\n",
      "  uid: 1af8e603-a140-4351-88b2-8d6f4a721c49\n",
      "type: Opaque\n"
     ]
    }
   ],
   "source": [
    "kubectl get secrets my-standalone-auth -o yaml"
   ]
  },
  {
   "cell_type": "code",
   "execution_count": 99,
   "id": "c48b52d3-391b-49b6-b045-4b68d9660951",
   "metadata": {},
   "outputs": [
    {
     "name": "stdout",
     "output_type": "stream",
     "text": [
      "neo4j/hellohello neo4j hellohello\n"
     ]
    }
   ],
   "source": [
    "NEO4J_AUTH=$(kubectl get secrets my-standalone-auth -o jsonpath='{.data.NEO4J_AUTH}' | base64 --decode)\n",
    "NEO4J_USERNAME=$(echo $NEO4J_AUTH | cut -f1 -d/)\n",
    "NEO4J_PASSWORD=$(echo $NEO4J_AUTH | cut -f2 -d/)\n",
    "echo $NEO4J_AUTH $NEO4J_USERNAME $NEO4J_PASSWORD\n"
   ]
  },
  {
   "cell_type": "code",
   "execution_count": 100,
   "id": "de64c352-6939-4d56-a322-9d4576589ca8",
   "metadata": {},
   "outputs": [
    {
     "name": "stdout",
     "output_type": "stream",
     "text": [
      "job.batch \"neo4j-init\" deleted\n",
      "job.batch/neo4j-init created\n"
     ]
    }
   ],
   "source": [
    "kubectl delete job neo4j-init || true\n",
    "\n",
    "kubectl create -f - <<EOF\n",
    "apiVersion: batch/v1\n",
    "kind: Job\n",
    "metadata:\n",
    "  name: neo4j-init\n",
    "  labels:\n",
    "    app: neo4j-init\n",
    "spec:\n",
    "  template:\n",
    "    metadata:\n",
    "      labels:\n",
    "        app: neo4j-init\n",
    "    spec:\n",
    "      containers:\n",
    "      - name: neo4j-init\n",
    "        image: neo4j:5.18.1\n",
    "        args:\n",
    "          - \"/import/import.sh\"\n",
    "        env:\n",
    "        - name: API_SERVER\n",
    "          value: ${API_SERVER}\n",
    "        - name: NEO4J_PASSWORD\n",
    "          value: ${NEO4J_PASSWORD}\n",
    "        - name: NEO4J_USERNAME\n",
    "          value: ${NEO4J_USERNAME}\n",
    "        - name: NEO4J_ADDRESS\n",
    "          value: 'neo4j://my-neo4j-release:7687'\n",
    "        volumeMounts:\n",
    "        - name: cyphers\n",
    "          mountPath: /import\n",
    "      restartPolicy: Never\n",
    "      volumes:\n",
    "        - name: cyphers\n",
    "          configMap:\n",
    "            name: cyphers\n",
    "            defaultMode: 0777\n",
    "EOF"
   ]
  },
  {
   "cell_type": "code",
   "execution_count": 101,
   "id": "65a4a2fc-dc04-4c70-823b-a5476e11d7b8",
   "metadata": {},
   "outputs": [
    {
     "name": "stdout",
     "output_type": "stream",
     "text": [
      "job.batch/neo4j-init condition met\n"
     ]
    }
   ],
   "source": [
    "kubectl wait  --for=condition=complete job/neo4j-init"
   ]
  },
  {
   "cell_type": "code",
   "execution_count": 102,
   "id": "38cdebc7-4114-446a-90fc-1fc68f4af61b",
   "metadata": {},
   "outputs": [
    {
     "name": "stdout",
     "output_type": "stream",
     "text": [
      "importing erase ...done\n",
      "importing serviceaccounts ...done\n",
      "importing pods ...done\n",
      "importing services ...done\n",
      "importing create-cve ...done\n",
      "importing roles ...done\n",
      "importing clusterroles ...done\n",
      "importing clusterrolebindings ...done\n",
      "importing rolebindings ...done\n"
     ]
    }
   ],
   "source": [
    "kubectl logs -l app=neo4j-init "
   ]
  },
  {
   "cell_type": "code",
   "execution_count": 103,
   "id": "8ea7599a-8760-4dba-ab49-e6f1a7454d7c",
   "metadata": {},
   "outputs": [
    {
     "name": "stdout",
     "output_type": "stream",
     "text": [
      "ClusterIP\n"
     ]
    }
   ],
   "source": [
    "kubectl get service my-neo4j-release -o jsonpath='{.spec.type}'"
   ]
  },
  {
   "cell_type": "code",
   "execution_count": 104,
   "id": "78756b92-d54b-46c9-92d5-c34364343a15",
   "metadata": {},
   "outputs": [
    {
     "name": "stdout",
     "output_type": "stream",
     "text": [
      "service/my-neo4j-release patched\n"
     ]
    }
   ],
   "source": [
    "kubectl patch svc my-neo4j-release --patch='{\"spec\":{\"type\":\"LoadBalancer\"}}'"
   ]
  },
  {
   "cell_type": "code",
   "execution_count": 105,
   "id": "050a3462-0c29-46f7-8150-9f7e4cc17e42",
   "metadata": {},
   "outputs": [
    {
     "name": "stdout",
     "output_type": "stream",
     "text": [
      "\n",
      "\n",
      "Open a browser\n",
      "\n",
      "http://10.101.55.78:7474/browser\n",
      "\n",
      "and login as \n",
      "\n",
      "user: neo4j\n",
      "password: hellohello\n",
      "\n"
     ]
    }
   ],
   "source": [
    "kubectl get svc my-neo4j-release -o jsonpath='\n",
    "\n",
    "Open a browser\n",
    "\n",
    "http://{.spec.clusterIP}:7474/browser\n",
    "\n",
    "and login as \n",
    "\n",
    "user: neo4j\n",
    "password: '$NEO4J_PASSWORD'\n",
    "\n",
    "'"
   ]
  },
  {
   "cell_type": "markdown",
   "id": "28616807-8453-4d88-b3b9-893a5d1a8d48",
   "metadata": {},
   "source": [
    "# Commands to be run in the Neo4 browser\n",
    "\n",
    "## Increase number of items\n",
    "\n",
    "## Useful commands\n",
    "\n",
    "### Show all items\n",
    "\n",
    "```\n",
    "MATCH (g)\n",
    "RETURN g\n",
    "```\n",
    "\n",
    "### Show *ALL* items connected to a CVE\n",
    "\n",
    "```\n",
    "MATCH g= (c:CVE)-[*1..7]-(connected)\n",
    "RETURN g\n",
    "```\n",
    "\n",
    "### Show all  `Services` connected to a CVE\n",
    "\n",
    "```\n",
    "MATCH g= (c:CVE)-[*1..7]-(s:Service)\n",
    "RETURN g\n",
    "```\n",
    "\n",
    "### Show all  `ServiceAccounts` connected to a CVE\n",
    "\n",
    "```\n",
    "MATCH g= (c:CVE)-[*1..7]-(s:ServiceAccount)\n",
    "RETURN g\n",
    "```\n",
    "\n",
    "### Show all  `ClusterRoles` connected to a CVE\n",
    "\n",
    "```\n",
    "MATCH g= (c:CVE)-[*1..7]-(cr:ClusterRole)\n",
    "RETURN g\n",
    "```\n",
    "\n",
    "\n"
   ]
  },
  {
   "cell_type": "code",
   "execution_count": 106,
   "id": "d5cee614-361b-40af-aec9-270c2f63f24c",
   "metadata": {},
   "outputs": [],
   "source": [
    "# kubectl delete namespace k8s-graph"
   ]
  },
  {
   "cell_type": "code",
   "execution_count": null,
   "id": "482a88fb-4808-4827-bae7-1d58c17603e8",
   "metadata": {},
   "outputs": [],
   "source": []
  }
 ],
 "metadata": {
  "kernelspec": {
   "display_name": "Bash",
   "language": "bash",
   "name": "bash"
  },
  "language_info": {
   "codemirror_mode": "shell",
   "file_extension": ".sh",
   "mimetype": "text/x-sh",
   "name": "bash"
  }
 },
 "nbformat": 4,
 "nbformat_minor": 5
}
